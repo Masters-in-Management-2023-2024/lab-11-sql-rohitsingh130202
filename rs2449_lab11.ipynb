{
  "cells": [
    {
      "cell_type": "markdown",
      "metadata": {
        "id": "D8ZOKXc7_hqE"
      },
      "source": [
        "# Lab Exercise: SQL Analysis with Polars\n",
        "\n",
        "> Add blockquote\n",
        "\n",
        "\n",
        "\n",
        "In this lab, you'll practice SQL queries using Polars' built-in SQL functionality. Complete each exercise by writing the appropriate SQL query."
      ]
    },
    {
      "cell_type": "code",
      "execution_count": 48,
      "metadata": {
        "colab": {
          "base_uri": "https://localhost:8080/"
        },
        "id": "Tk6bmfMV_hqH",
        "outputId": "9b7d9613-5b14-4008-b6f6-e9f5107c0fb2"
      },
      "outputs": [
        {
          "output_type": "stream",
          "name": "stdout",
          "text": [
            "Setup complete! Tables available:\n",
            "shape: (5, 1)\n",
            "┌──────────┐\n",
            "│ name     │\n",
            "│ ---      │\n",
            "│ str      │\n",
            "╞══════════╡\n",
            "│ airlines │\n",
            "│ airports │\n",
            "│ flights  │\n",
            "│ planes   │\n",
            "│ weather  │\n",
            "└──────────┘\n"
          ]
        },
        {
          "output_type": "stream",
          "name": "stderr",
          "text": [
            "/tmp/ipython-input-905584215.py:15: DeprecationWarning: The argument `eager_execution` for `SQLContext.__init__` is deprecated. It has been renamed to `eager`.\n",
            "  ctx = pl.SQLContext(\n"
          ]
        }
      ],
      "source": [
        "# Setup - Run this cell first\n",
        "import polars as pl\n",
        "\n",
        "# Load data\n",
        "airlines = pl.read_csv('https://raw.githubusercontent.com/philhetzel/opan5510-class11/refs/heads/main/data/nyc_airlines.csv')\n",
        "airports = pl.read_csv('https://raw.githubusercontent.com/philhetzel/opan5510-class11/refs/heads/main/data/nyc_airports.csv')\n",
        "flights = pl.read_csv('https://raw.githubusercontent.com/philhetzel/opan5510-class11/refs/heads/main/data/nyc_flights.csv', null_values=\"NA\")\n",
        "planes = pl.read_csv('https://raw.githubusercontent.com/philhetzel/opan5510-class11/refs/heads/main/data/nyc_planes.csv', null_values=\"NA\")\n",
        "weather = pl.read_csv('https://raw.githubusercontent.com/philhetzel/opan5510-class11/refs/heads/main/data/nyc_weather.csv', null_values=\"NA\", schema_overrides={\"precip\": pl.Float64, \"visib\": pl.Float64})\n",
        "\n",
        "flights = flights.with_columns(pl.col(\"time_hour\").str.strptime(pl.Datetime))\n",
        "weather = weather.with_columns(pl.col(\"time_hour\").str.strptime(pl.Datetime))\n",
        "\n",
        "# Create SQL context\n",
        "ctx = pl.SQLContext(\n",
        "    airlines=airlines,\n",
        "    airports=airports,\n",
        "    flights=flights,\n",
        "    planes=planes,\n",
        "    weather=weather,\n",
        "    eager_execution=True\n",
        ")\n",
        "\n",
        "print(\"Setup complete! Tables available:\")\n",
        "print(ctx.execute(\"SHOW TABLES\"))"
      ]
    },
    {
      "cell_type": "markdown",
      "metadata": {
        "id": "lK3UwUkB_hqI"
      },
      "source": [
        "## Exercise 1: Basic Queries\n",
        "\n",
        "### 1.1 Find all unique carriers in the airlines table"
      ]
    },
    {
      "cell_type": "code",
      "execution_count": 49,
      "metadata": {
        "colab": {
          "base_uri": "https://localhost:8080/"
        },
        "id": "tLLWJ183_hqI",
        "outputId": "479e4222-8ccc-4251-b3a2-ba5502bfa359"
      },
      "outputs": [
        {
          "output_type": "stream",
          "name": "stdout",
          "text": [
            "shape: (16, 1)\n",
            "┌─────────┐\n",
            "│ carrier │\n",
            "│ ---     │\n",
            "│ str     │\n",
            "╞═════════╡\n",
            "│ 9E      │\n",
            "│ AA      │\n",
            "│ AS      │\n",
            "│ B6      │\n",
            "│ DL      │\n",
            "│ …       │\n",
            "│ UA      │\n",
            "│ US      │\n",
            "│ VX      │\n",
            "│ WN      │\n",
            "│ YV      │\n",
            "└─────────┘\n"
          ]
        }
      ],
      "source": [
        "# Write your SQL query here\n",
        "result = ctx.execute(\"\"\"\n",
        "SELECT DISTINCT carrier\n",
        "FROM airlines;\n",
        "\"\"\")\n",
        "\n",
        "print(result)"
      ]
    },
    {
      "cell_type": "markdown",
      "metadata": {
        "id": "Rf4r10yp_hqJ"
      },
      "source": [
        "### 1.2 Find the top 10 destinations by number of flights"
      ]
    },
    {
      "cell_type": "code",
      "execution_count": 50,
      "metadata": {
        "colab": {
          "base_uri": "https://localhost:8080/"
        },
        "id": "c3-B-HXK_hqJ",
        "outputId": "e4f24eb0-c26b-44c1-9430-29dca4e1afef"
      },
      "outputs": [
        {
          "output_type": "stream",
          "name": "stdout",
          "text": [
            "shape: (10, 2)\n",
            "┌──────┬─────────────┐\n",
            "│ dest ┆ num_flights │\n",
            "│ ---  ┆ ---         │\n",
            "│ str  ┆ u32         │\n",
            "╞══════╪═════════════╡\n",
            "│ ORD  ┆ 17283       │\n",
            "│ ATL  ┆ 17215       │\n",
            "│ LAX  ┆ 16174       │\n",
            "│ BOS  ┆ 15508       │\n",
            "│ MCO  ┆ 14082       │\n",
            "│ CLT  ┆ 14064       │\n",
            "│ SFO  ┆ 13331       │\n",
            "│ FLL  ┆ 12055       │\n",
            "│ MIA  ┆ 11728       │\n",
            "│ DCA  ┆ 9705        │\n",
            "└──────┴─────────────┘\n"
          ]
        }
      ],
      "source": [
        "# Write your SQL query here\n",
        "result = ctx.execute(\"\"\"\n",
        "SELECT dest, COUNT(*) AS num_flights\n",
        "FROM flights\n",
        "GROUP BY dest\n",
        "ORDER BY num_flights DESC\n",
        "LIMIT 10;\n",
        "\n",
        "\"\"\")\n",
        "\n",
        "print(result)"
      ]
    },
    {
      "cell_type": "markdown",
      "metadata": {
        "id": "YogpjJtO_hqJ"
      },
      "source": [
        "### 1.3 Find all flights that departed more than 2 hours late (120 minutes)"
      ]
    },
    {
      "cell_type": "code",
      "execution_count": 51,
      "metadata": {
        "colab": {
          "base_uri": "https://localhost:8080/"
        },
        "id": "NPtykEgm_hqJ",
        "outputId": "397ac9c3-ac3f-4bfe-aa7a-1743af0476d0"
      },
      "outputs": [
        {
          "output_type": "stream",
          "name": "stdout",
          "text": [
            "shape: (9_723, 19)\n",
            "┌──────┬───────┬─────┬──────────┬───┬──────────┬──────┬────────┬─────────────────────────┐\n",
            "│ year ┆ month ┆ day ┆ dep_time ┆ … ┆ distance ┆ hour ┆ minute ┆ time_hour               │\n",
            "│ ---  ┆ ---   ┆ --- ┆ ---      ┆   ┆ ---      ┆ ---  ┆ ---    ┆ ---                     │\n",
            "│ i64  ┆ i64   ┆ i64 ┆ i64      ┆   ┆ i64      ┆ i64  ┆ i64    ┆ datetime[μs, UTC]       │\n",
            "╞══════╪═══════╪═════╪══════════╪═══╪══════════╪══════╪════════╪═════════════════════════╡\n",
            "│ 2013 ┆ 1     ┆ 1   ┆ 848      ┆ … ┆ 184      ┆ 18   ┆ 35     ┆ 2013-01-01 23:00:00 UTC │\n",
            "│ 2013 ┆ 1     ┆ 1   ┆ 957      ┆ … ┆ 200      ┆ 7    ┆ 33     ┆ 2013-01-01 12:00:00 UTC │\n",
            "│ 2013 ┆ 1     ┆ 1   ┆ 1114     ┆ … ┆ 1416     ┆ 9    ┆ 0      ┆ 2013-01-01 14:00:00 UTC │\n",
            "│ 2013 ┆ 1     ┆ 1   ┆ 1540     ┆ … ┆ 1598     ┆ 13   ┆ 38     ┆ 2013-01-01 18:00:00 UTC │\n",
            "│ 2013 ┆ 1     ┆ 1   ┆ 1815     ┆ … ┆ 1134     ┆ 13   ┆ 25     ┆ 2013-01-01 18:00:00 UTC │\n",
            "│ …    ┆ …     ┆ …   ┆ …        ┆ … ┆ …        ┆ …    ┆ …      ┆ …                       │\n",
            "│ 2013 ┆ 9     ┆ 30  ┆ 1823     ┆ … ┆ 765      ┆ 15   ┆ 45     ┆ 2013-09-30 19:00:00 UTC │\n",
            "│ 2013 ┆ 9     ┆ 30  ┆ 1951     ┆ … ┆ 708      ┆ 16   ┆ 49     ┆ 2013-09-30 20:00:00 UTC │\n",
            "│ 2013 ┆ 9     ┆ 30  ┆ 2053     ┆ … ┆ 746      ┆ 18   ┆ 15     ┆ 2013-09-30 22:00:00 UTC │\n",
            "│ 2013 ┆ 9     ┆ 30  ┆ 2159     ┆ … ┆ 301      ┆ 18   ┆ 45     ┆ 2013-09-30 22:00:00 UTC │\n",
            "│ 2013 ┆ 9     ┆ 30  ┆ 2235     ┆ … ┆ 944      ┆ 20   ┆ 1      ┆ 2013-10-01 00:00:00 UTC │\n",
            "└──────┴───────┴─────┴──────────┴───┴──────────┴──────┴────────┴─────────────────────────┘\n"
          ]
        }
      ],
      "source": [
        "# Write your SQL query here\n",
        "result = ctx.execute(\"\"\"SELECT *\n",
        "FROM flights\n",
        "WHERE dep_delay > 120;\n",
        "\"\"\")\n",
        "\n",
        "print(result)"
      ]
    },
    {
      "cell_type": "markdown",
      "metadata": {
        "id": "Kw3nmi98_hqJ"
      },
      "source": [
        "## Exercise 2: Aggregation\n",
        "\n",
        "### 2.1 Calculate the average departure delay for each origin airport"
      ]
    },
    {
      "cell_type": "code",
      "execution_count": 52,
      "metadata": {
        "colab": {
          "base_uri": "https://localhost:8080/"
        },
        "id": "-rZDkodJ_hqJ",
        "outputId": "83214dd3-4d02-4f2b-8582-6f21b98d49ab"
      },
      "outputs": [
        {
          "output_type": "stream",
          "name": "stdout",
          "text": [
            "shape: (3, 2)\n",
            "┌────────┬───────────────┐\n",
            "│ origin ┆ avg_dep_delay │\n",
            "│ ---    ┆ ---           │\n",
            "│ str    ┆ f64           │\n",
            "╞════════╪═══════════════╡\n",
            "│ JFK    ┆ 12.112159     │\n",
            "│ EWR    ┆ 15.107954     │\n",
            "│ LGA    ┆ 10.346876     │\n",
            "└────────┴───────────────┘\n"
          ]
        }
      ],
      "source": [
        "# Write your SQL query here\n",
        "result = ctx.execute(\"\"\"SELECT origin, AVG(dep_delay) AS avg_dep_delay\n",
        "FROM flights\n",
        "GROUP BY origin;\n",
        "\n",
        "\"\"\")\n",
        "print(result)"
      ]
    },
    {
      "cell_type": "markdown",
      "metadata": {
        "id": "eZSrYrNN_hqK"
      },
      "source": [
        "### 2.2 Find the busiest month of the year\n",
        "\n",
        "Count the number of flights per month and find which month has the most flights."
      ]
    },
    {
      "cell_type": "code",
      "execution_count": 53,
      "metadata": {
        "colab": {
          "base_uri": "https://localhost:8080/"
        },
        "id": "HIlc9Zkr_hqK",
        "outputId": "edbe63af-97ce-40d2-a268-73eb123fe156"
      },
      "outputs": [
        {
          "output_type": "stream",
          "name": "stdout",
          "text": [
            "shape: (1, 2)\n",
            "┌───────┬─────────────┐\n",
            "│ month ┆ num_flights │\n",
            "│ ---   ┆ ---         │\n",
            "│ i64   ┆ u32         │\n",
            "╞═══════╪═════════════╡\n",
            "│ 7     ┆ 29425       │\n",
            "└───────┴─────────────┘\n"
          ]
        }
      ],
      "source": [
        "# First, let's check what columns are available\n",
        "result = ctx.execute(\"\"\"SELECT month, COUNT(*) AS num_flights\n",
        "FROM flights\n",
        "GROUP BY month\n",
        "ORDER BY num_flights DESC\n",
        "LIMIT 1;\n",
        "\"\"\")\n",
        "\n",
        "print(result)"
      ]
    },
    {
      "cell_type": "markdown",
      "metadata": {
        "id": "pE5Xa20t_hqK"
      },
      "source": [
        "### 2.3 Calculate the on-time performance rate for each carrier\n",
        "\n",
        "Consider a flight on-time if the departure delay is <= 15 minutes."
      ]
    },
    {
      "cell_type": "code",
      "execution_count": 54,
      "metadata": {
        "colab": {
          "base_uri": "https://localhost:8080/"
        },
        "id": "iJEsX2kj_hqK",
        "outputId": "9ca7de9e-9376-45fa-9073-bf2dde425273"
      },
      "outputs": [
        {
          "output_type": "stream",
          "name": "stdout",
          "text": [
            "shape: (16, 2)\n",
            "┌─────────┬──────────────┐\n",
            "│ carrier ┆ on_time_rate │\n",
            "│ ---     ┆ ---          │\n",
            "│ str     ┆ f64          │\n",
            "╞═════════╪══════════════╡\n",
            "│ YV      ┆ 64.725458    │\n",
            "│ AA      ┆ 82.437594    │\n",
            "│ UA      ┆ 78.043126    │\n",
            "│ AS      ┆ 86.554622    │\n",
            "│ VX      ┆ 82.099961    │\n",
            "│ …       ┆ …            │\n",
            "│ OO      ┆ 71.875       │\n",
            "│ EV      ┆ 65.922138    │\n",
            "│ MQ      ┆ 75.171421    │\n",
            "│ B6      ┆ 76.537018    │\n",
            "│ FL      ┆ 71.687117    │\n",
            "└─────────┴──────────────┘\n"
          ]
        }
      ],
      "source": [
        "# Write your SQL query here\n",
        "result = ctx.execute(\"\"\"SELECT carrier,\n",
        "       SUM(CASE WHEN dep_delay <= 15 THEN 1 ELSE 0 END) * 100.0 / COUNT(*) AS on_time_rate\n",
        "FROM flights\n",
        "GROUP BY carrier;\n",
        "\n",
        "\n",
        "\"\"\")\n",
        "print(result)"
      ]
    },
    {
      "cell_type": "markdown",
      "metadata": {
        "id": "k5b5D7NK_hqK"
      },
      "source": [
        "## Exercise 3: Joins\n",
        "\n",
        "### 3.1 List all flights with their airline names (not just carrier codes)\n",
        "\n",
        "Show the first 20 flights with carrier code, airline name, flight number, origin, and destination."
      ]
    },
    {
      "cell_type": "code",
      "execution_count": 55,
      "metadata": {
        "colab": {
          "base_uri": "https://localhost:8080/"
        },
        "id": "BkYAG5Dg_hqL",
        "outputId": "2cc1c7de-f704-4168-e087-664e62664d43"
      },
      "outputs": [
        {
          "output_type": "stream",
          "name": "stdout",
          "text": [
            "shape: (336_776, 20)\n",
            "┌──────┬───────┬─────┬──────────┬───┬──────┬────────┬───────────────────────┬──────────────────────┐\n",
            "│ year ┆ month ┆ day ┆ dep_time ┆ … ┆ hour ┆ minute ┆ time_hour             ┆ airline_name         │\n",
            "│ ---  ┆ ---   ┆ --- ┆ ---      ┆   ┆ ---  ┆ ---    ┆ ---                   ┆ ---                  │\n",
            "│ i64  ┆ i64   ┆ i64 ┆ i64      ┆   ┆ i64  ┆ i64    ┆ datetime[μs, UTC]     ┆ str                  │\n",
            "╞══════╪═══════╪═════╪══════════╪═══╪══════╪════════╪═══════════════════════╪══════════════════════╡\n",
            "│ 2013 ┆ 1     ┆ 1   ┆ 517      ┆ … ┆ 5    ┆ 15     ┆ 2013-01-01 10:00:00   ┆ United Air Lines     │\n",
            "│      ┆       ┆     ┆          ┆   ┆      ┆        ┆ UTC                   ┆ Inc.                 │\n",
            "│ 2013 ┆ 1     ┆ 1   ┆ 533      ┆ … ┆ 5    ┆ 29     ┆ 2013-01-01 10:00:00   ┆ United Air Lines     │\n",
            "│      ┆       ┆     ┆          ┆   ┆      ┆        ┆ UTC                   ┆ Inc.                 │\n",
            "│ 2013 ┆ 1     ┆ 1   ┆ 542      ┆ … ┆ 5    ┆ 40     ┆ 2013-01-01 10:00:00   ┆ American Airlines    │\n",
            "│      ┆       ┆     ┆          ┆   ┆      ┆        ┆ UTC                   ┆ Inc.                 │\n",
            "│ 2013 ┆ 1     ┆ 1   ┆ 544      ┆ … ┆ 5    ┆ 45     ┆ 2013-01-01 10:00:00   ┆ JetBlue Airways      │\n",
            "│      ┆       ┆     ┆          ┆   ┆      ┆        ┆ UTC                   ┆                      │\n",
            "│ 2013 ┆ 1     ┆ 1   ┆ 554      ┆ … ┆ 6    ┆ 0      ┆ 2013-01-01 11:00:00   ┆ Delta Air Lines Inc. │\n",
            "│      ┆       ┆     ┆          ┆   ┆      ┆        ┆ UTC                   ┆                      │\n",
            "│ …    ┆ …     ┆ …   ┆ …        ┆ … ┆ …    ┆ …      ┆ …                     ┆ …                    │\n",
            "│ 2013 ┆ 9     ┆ 30  ┆ null     ┆ … ┆ 14   ┆ 55     ┆ 2013-09-30 18:00:00   ┆ Endeavor Air Inc.    │\n",
            "│      ┆       ┆     ┆          ┆   ┆      ┆        ┆ UTC                   ┆                      │\n",
            "│ 2013 ┆ 9     ┆ 30  ┆ null     ┆ … ┆ 22   ┆ 0      ┆ 2013-10-01 02:00:00   ┆ Endeavor Air Inc.    │\n",
            "│      ┆       ┆     ┆          ┆   ┆      ┆        ┆ UTC                   ┆                      │\n",
            "│ 2013 ┆ 9     ┆ 30  ┆ null     ┆ … ┆ 12   ┆ 10     ┆ 2013-09-30 16:00:00   ┆ Envoy Air            │\n",
            "│      ┆       ┆     ┆          ┆   ┆      ┆        ┆ UTC                   ┆                      │\n",
            "│ 2013 ┆ 9     ┆ 30  ┆ null     ┆ … ┆ 11   ┆ 59     ┆ 2013-09-30 15:00:00   ┆ Envoy Air            │\n",
            "│      ┆       ┆     ┆          ┆   ┆      ┆        ┆ UTC                   ┆                      │\n",
            "│ 2013 ┆ 9     ┆ 30  ┆ null     ┆ … ┆ 8    ┆ 40     ┆ 2013-09-30 12:00:00   ┆ Envoy Air            │\n",
            "│      ┆       ┆     ┆          ┆   ┆      ┆        ┆ UTC                   ┆                      │\n",
            "└──────┴───────┴─────┴──────────┴───┴──────┴────────┴───────────────────────┴──────────────────────┘\n"
          ]
        }
      ],
      "source": [
        "# Write your SQL query here\n",
        "result = ctx.execute(\"\"\"SELECT f.*, a.name AS airline_name\n",
        "FROM flights f\n",
        "JOIN airlines a\n",
        "  ON f.carrier = a.carrier;\n",
        "\"\"\")\n",
        "print(result)"
      ]
    },
    {
      "cell_type": "markdown",
      "metadata": {
        "id": "H6I3JaLl_hqL"
      },
      "source": [
        "### 3.2 Find the average age of planes for each carrier\n",
        "\n",
        "Hint: The planes table has a `year` column for manufacture year. Calculate age based on 2013."
      ]
    },
    {
      "cell_type": "code",
      "execution_count": 56,
      "metadata": {
        "colab": {
          "base_uri": "https://localhost:8080/"
        },
        "id": "J9h6o_uV_hqL",
        "outputId": "4b83fd90-8915-4080-f0ff-683ef76fc6d1"
      },
      "outputs": [
        {
          "output_type": "stream",
          "name": "stdout",
          "text": [
            "shape: (16, 2)\n",
            "┌─────────┬───────────────┐\n",
            "│ carrier ┆ avg_plane_age │\n",
            "│ ---     ┆ ---           │\n",
            "│ str     ┆ f64           │\n",
            "╞═════════╪═══════════════╡\n",
            "│ OO      ┆ 6.84375       │\n",
            "│ 9E      ┆ 7.101053      │\n",
            "│ DL      ┆ 16.372169     │\n",
            "│ UA      ┆ 13.207691     │\n",
            "│ MQ      ┆ 35.319        │\n",
            "│ …       ┆ …             │\n",
            "│ YV      ┆ 9.313758      │\n",
            "│ EV      ┆ 11.308998     │\n",
            "│ AS      ┆ 3.33662       │\n",
            "│ US      ┆ 9.103663      │\n",
            "│ VX      ┆ 4.473643      │\n",
            "└─────────┴───────────────┘\n"
          ]
        }
      ],
      "source": [
        "# Write your SQL query here\n",
        "result = ctx.execute(\"\"\"SELECT f.carrier,\n",
        "       AVG(f.year - p.year) AS avg_plane_age\n",
        "FROM flights f\n",
        "JOIN planes p\n",
        "  ON f.tailnum = p.tailnum\n",
        "WHERE p.year IS NOT NULL\n",
        "GROUP BY f.carrier;\n",
        "\n",
        "\"\"\")\n",
        "\n",
        "print(result)"
      ]
    },
    {
      "cell_type": "markdown",
      "metadata": {
        "id": "hfyJg8_-_hqL"
      },
      "source": [
        "### 3.3 Find flights that experienced both departure delays and bad weather\n",
        "\n",
        "Join flights with weather data and find flights where departure delay > 30 minutes and either wind_speed > 20 or precip > 0.1"
      ]
    },
    {
      "cell_type": "code",
      "execution_count": 57,
      "metadata": {
        "colab": {
          "base_uri": "https://localhost:8080/"
        },
        "id": "SmSA3zfn_hqM",
        "outputId": "02a3e083-c51d-4cc7-b9fb-8ae05cbe8cbc"
      },
      "outputs": [
        {
          "output_type": "stream",
          "name": "stdout",
          "text": [
            "shape: (5_603, 19)\n",
            "┌──────┬───────┬─────┬──────────┬───┬──────────┬──────┬────────┬─────────────────────────┐\n",
            "│ year ┆ month ┆ day ┆ dep_time ┆ … ┆ distance ┆ hour ┆ minute ┆ time_hour               │\n",
            "│ ---  ┆ ---   ┆ --- ┆ ---      ┆   ┆ ---      ┆ ---  ┆ ---    ┆ ---                     │\n",
            "│ i64  ┆ i64   ┆ i64 ┆ i64      ┆   ┆ i64      ┆ i64  ┆ i64    ┆ datetime[μs, UTC]       │\n",
            "╞══════╪═══════╪═════╪══════════╪═══╪══════════╪══════╪════════╪═════════════════════════╡\n",
            "│ 2013 ┆ 1     ┆ 1   ┆ 2217     ┆ … ┆ 1005     ┆ 21   ┆ 30     ┆ 2013-01-02 02:00:00 UTC │\n",
            "│ 2013 ┆ 1     ┆ 1   ┆ 2326     ┆ … ┆ 2248     ┆ 21   ┆ 30     ┆ 2013-01-02 02:00:00 UTC │\n",
            "│ 2013 ┆ 1     ┆ 4   ┆ 1238     ┆ … ┆ 820      ┆ 11   ┆ 59     ┆ 2013-01-04 16:00:00 UTC │\n",
            "│ 2013 ┆ 1     ┆ 4   ┆ 1400     ┆ … ┆ 212      ┆ 13   ┆ 20     ┆ 2013-01-04 18:00:00 UTC │\n",
            "│ 2013 ┆ 1     ┆ 4   ┆ 1455     ┆ … ┆ 187      ┆ 14   ┆ 22     ┆ 2013-01-04 19:00:00 UTC │\n",
            "│ …    ┆ …     ┆ …   ┆ …        ┆ … ┆ …        ┆ …    ┆ …      ┆ …                       │\n",
            "│ 2013 ┆ 9     ┆ 22  ┆ 1540     ┆ … ┆ 762      ┆ 14   ┆ 59     ┆ 2013-09-22 18:00:00 UTC │\n",
            "│ 2013 ┆ 9     ┆ 22  ┆ 1957     ┆ … ┆ 335      ┆ 18   ┆ 20     ┆ 2013-09-22 22:00:00 UTC │\n",
            "│ 2013 ┆ 9     ┆ 22  ┆ 2104     ┆ … ┆ 2153     ┆ 20   ┆ 22     ┆ 2013-09-23 00:00:00 UTC │\n",
            "│ 2013 ┆ 9     ┆ 22  ┆ 2111     ┆ … ┆ 2475     ┆ 20   ┆ 25     ┆ 2013-09-23 00:00:00 UTC │\n",
            "│ 2013 ┆ 9     ┆ 22  ┆ 2130     ┆ … ┆ 187      ┆ 20   ┆ 45     ┆ 2013-09-23 00:00:00 UTC │\n",
            "└──────┴───────┴─────┴──────────┴───┴──────────┴──────┴────────┴─────────────────────────┘\n"
          ]
        }
      ],
      "source": [
        "# First, explore the weather table structure\n",
        "result = ctx.execute(\"\"\"SELECT f.*\n",
        "FROM flights f\n",
        "JOIN weather w\n",
        "  ON f.year = w.year\n",
        " AND f.month = w.month\n",
        " AND f.day = w.day\n",
        " AND f.hour = w.hour\n",
        " AND f.origin = w.origin\n",
        "WHERE f.dep_delay > 30\n",
        "  AND (w.precip > 0.1 OR w.visib < 1 OR w.wind_speed > 20);\n",
        "\"\"\")\n",
        "print(result)"
      ]
    },
    {
      "cell_type": "markdown",
      "metadata": {
        "id": "Nw1q9Jn2_hqM"
      },
      "source": [
        "## Exercise 4: Advanced Queries\n",
        "\n",
        "### 4.1 Find the most popular aircraft types (by number of flights)\n",
        "\n",
        "Join flights with planes to get manufacturer and model information. Show top 10."
      ]
    },
    {
      "cell_type": "code",
      "execution_count": 58,
      "metadata": {
        "colab": {
          "base_uri": "https://localhost:8080/"
        },
        "id": "_zCvhHnQ_hqM",
        "outputId": "8f6c3b0b-3862-4095-8604-2e3b7efda46c"
      },
      "outputs": [
        {
          "output_type": "stream",
          "name": "stdout",
          "text": [
            "shape: (10, 3)\n",
            "┌───────────────────────────────┬─────────────────┬─────────────┐\n",
            "│ manufacturer                  ┆ model           ┆ num_flights │\n",
            "│ ---                           ┆ ---             ┆ ---         │\n",
            "│ str                           ┆ str             ┆ u32         │\n",
            "╞═══════════════════════════════╪═════════════════╪═════════════╡\n",
            "│ AIRBUS                        ┆ A320-232        ┆ 31278       │\n",
            "│ EMBRAER                       ┆ EMB-145LR       ┆ 28027       │\n",
            "│ EMBRAER                       ┆ ERJ 190-100 IGW ┆ 23716       │\n",
            "│ AIRBUS INDUSTRIE              ┆ A320-232        ┆ 14553       │\n",
            "│ EMBRAER                       ┆ EMB-145XR       ┆ 14051       │\n",
            "│ BOEING                        ┆ 737-824         ┆ 13809       │\n",
            "│ BOMBARDIER INC                ┆ CL-600-2D24     ┆ 11807       │\n",
            "│ BOEING                        ┆ 737-7H4         ┆ 10389       │\n",
            "│ BOEING                        ┆ 757-222         ┆ 9150        │\n",
            "│ MCDONNELL DOUGLAS AIRCRAFT CO ┆ MD-88           ┆ 8932        │\n",
            "└───────────────────────────────┴─────────────────┴─────────────┘\n"
          ]
        }
      ],
      "source": [
        "# Write your SQL query here\n",
        "result = ctx.execute(\"\"\"SELECT\n",
        "    p.manufacturer,\n",
        "    p.model,\n",
        "    COUNT(*) AS num_flights\n",
        "FROM flights f\n",
        "JOIN planes p\n",
        "    ON f.tailnum = p.tailnum\n",
        "GROUP BY p.manufacturer, p.model\n",
        "ORDER BY num_flights DESC\n",
        "LIMIT 10;\n",
        "\n",
        "\n",
        "\"\"\")\n",
        "print(result)"
      ]
    },
    {
      "cell_type": "markdown",
      "metadata": {
        "id": "NEQWf6Kw_hqM"
      },
      "source": [
        "### 4.2 Analyze route performance\n",
        "\n",
        "Find the top 10 routes (origin-destination pairs) with:\n",
        "- Total number of flights\n",
        "- Average departure delay\n",
        "- Percentage of flights delayed more than 30 minutes\n",
        "\n",
        "Include airport names, not just codes."
      ]
    },
    {
      "cell_type": "code",
      "execution_count": 60,
      "metadata": {
        "colab": {
          "base_uri": "https://localhost:8080/"
        },
        "id": "u2S4fRmQ_hqM",
        "outputId": "2065b1d0-58dd-4336-c18b-2676bae93277"
      },
      "outputs": [
        {
          "output_type": "stream",
          "name": "stdout",
          "text": [
            "shape: (10, 5)\n",
            "┌────────────────┬─────────────────────┬───────────────┬─────────────────────┬─────────────────────┐\n",
            "│ origin_name    ┆ destination_name    ┆ total_flights ┆ avg_departure_delay ┆ percentage_delayed_ │\n",
            "│ ---            ┆ ---                 ┆ ---           ┆ ---                 ┆ more_than_3…        │\n",
            "│ str            ┆ str                 ┆ u32           ┆ f64                 ┆ ---                 │\n",
            "│                ┆                     ┆               ┆                     ┆ f64                 │\n",
            "╞════════════════╪═════════════════════╪═══════════════╪═════════════════════╪═════════════════════╡\n",
            "│ John F Kennedy ┆ Los Angeles Intl    ┆ 11196         ┆ 8.522508            ┆ 9.88746             │\n",
            "│ Intl           ┆                     ┆               ┆                     ┆                     │\n",
            "│ La Guardia     ┆ Hartsfield Jackson  ┆ 10082         ┆ 11.448621           ┆ 12.467764           │\n",
            "│                ┆ Atlanta Int…        ┆               ┆                     ┆                     │\n",
            "│ La Guardia     ┆ Chicago Ohare Intl  ┆ 8548          ┆ 10.740758           ┆ 13.827796           │\n",
            "│ John F Kennedy ┆ San Francisco Intl  ┆ 8138          ┆ 11.952691           ┆ 12.214303           │\n",
            "│ Intl           ┆                     ┆               ┆                     ┆                     │\n",
            "│ La Guardia     ┆ Charlotte Douglas   ┆ 5969          ┆ 8.965321            ┆ 12.347127           │\n",
            "│                ┆ Intl                ┆               ┆                     ┆                     │\n",
            "│ Newark Liberty ┆ Chicago Ohare Intl  ┆ 5851          ┆ 14.644163           ┆ 16.680909           │\n",
            "│ Intl           ┆                     ┆               ┆                     ┆                     │\n",
            "│ John F Kennedy ┆ General Edward      ┆ 5786          ┆ 11.694953           ┆ 14.033875           │\n",
            "│ Intl           ┆ Lawrence Logan …    ┆               ┆                     ┆                     │\n",
            "│ La Guardia     ┆ Miami Intl          ┆ 5725          ┆ 7.361747            ┆ 9.554585            │\n",
            "│ John F Kennedy ┆ Orlando Intl        ┆ 5434          ┆ 10.601583           ┆ 12.789842           │\n",
            "│ Intl           ┆                     ┆               ┆                     ┆                     │\n",
            "│ Newark Liberty ┆ General Edward      ┆ 5251          ┆ 12.54561            ┆ 15.120929           │\n",
            "│ Intl           ┆ Lawrence Logan …    ┆               ┆                     ┆                     │\n",
            "└────────────────┴─────────────────────┴───────────────┴─────────────────────┴─────────────────────┘\n"
          ]
        }
      ],
      "source": [
        "# Write your SQL query here\n",
        "result = ctx.execute(\"\"\"\n",
        "WITH FlightRputeDetails AS (\n",
        "    SELECT\n",
        "        f.dep_delay,\n",
        "        o.name AS origin_name,\n",
        "        d.name AS destination_name\n",
        "    FROM flights AS f\n",
        "    JOIN airports AS o ON f.origin = o.faa\n",
        "    JOIN airports AS d ON f.dest = d.faa\n",
        "    Where f.dep_delay IS NOT NULL\n",
        "    )\n",
        "    SELECT\n",
        "        origin_name,\n",
        "        destination_name,\n",
        "        COUNT(*) AS total_flights,\n",
        "        AVG(dep_delay) AS avg_departure_delay,\n",
        "        CAST(SUM(CASE WHEN dep_delay > 30 THEN 1 ELSE 0 END) AS REAL) * 100/COUNT(*) AS percentage_delayed_more_than_30\n",
        "        FROM FlightRputeDetails\n",
        "    GROUP BY origin_name, destination_name\n",
        "    ORDER BY total_flights DESC\n",
        "    LIMIT 10;\n",
        "\"\"\")\n",
        "print(result)"
      ]
    },
    {
      "cell_type": "code",
      "execution_count": null,
      "metadata": {
        "id": "6w1v2Gcw_hqM"
      },
      "outputs": [],
      "source": [
        "# Write your SQL query here\n",
        "result = ctx.execute(\"\"\"\n",
        "-- Your query here\n",
        "\"\"\")\n",
        "\n",
        "# print(result)"
      ]
    },
    {
      "cell_type": "markdown",
      "metadata": {
        "id": "fGaBP10B_hqN"
      },
      "source": [
        "## Bonus: Compare with Polars\n",
        "\n",
        "### Choose one of the queries above and implement it using Polars\n",
        "\n",
        "This will help you understand the relationship between SQL and Polars operations."
      ]
    },
    {
      "cell_type": "code",
      "execution_count": null,
      "metadata": {
        "id": "Yqyf_thz_hqN"
      },
      "outputs": [],
      "source": [
        "# Example: Let's implement Exercise 2.1 (average delay by origin) in Polars\n",
        "\n",
        "# SQL version (for reference)\n",
        "sql_result = ctx.execute(\"\"\"\n",
        "    SELECT\n",
        "        origin,\n",
        "        AVG(dep_delay) as avg_delay\n",
        "    FROM flights\n",
        "    WHERE dep_delay IS NOT NULL\n",
        "    GROUP BY origin\n",
        "    ORDER BY avg_delay DESC\n",
        "\"\"\")\n",
        "\n",
        "# Polars version\n",
        "polars_result = (\n",
        "    flights\n",
        "    .filter(pl.col('dep_delay').is_not_null())\n",
        "    .group_by('origin')\n",
        "    .agg(pl.col('dep_delay').mean().alias('avg_delay'))\n",
        "    .sort('avg_delay', descending=True)\n",
        ")\n",
        "\n",
        "print(\"SQL Result:\")\n",
        "print(sql_result)\n",
        "print(\"\\nPolars Result:\")\n",
        "print(polars_result)\n",
        "\n",
        "# Now implement one of your own queries in Polars below:\n",
        "# Your Polars code here"
      ]
    }
  ],
  "metadata": {
    "kernelspec": {
      "display_name": "Python 3",
      "language": "python",
      "name": "python3"
    },
    "language_info": {
      "codemirror_mode": {
        "name": "ipython",
        "version": 3
      },
      "file_extension": ".py",
      "mimetype": "text/x-python",
      "name": "python",
      "nbconvert_exporter": "python",
      "pygments_lexer": "ipython3",
      "version": "3.8.0"
    },
    "colab": {
      "provenance": []
    }
  },
  "nbformat": 4,
  "nbformat_minor": 0
}